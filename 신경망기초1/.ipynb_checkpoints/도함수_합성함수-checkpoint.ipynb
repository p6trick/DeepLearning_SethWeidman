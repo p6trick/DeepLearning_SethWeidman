{
 "cells": [
  {
   "cell_type": "code",
   "execution_count": 16,
   "id": "8d0d6e8c-e62a-4a1c-aec2-793f901ef1f2",
   "metadata": {},
   "outputs": [],
   "source": [
    "import numpy as np\n",
    "import matplotlib.pyplot as plt"
   ]
  },
  {
   "cell_type": "markdown",
   "id": "81eb2219-057e-41ac-9805-0b3b9747d099",
   "metadata": {},
   "source": [
    "## Python list 연산"
   ]
  },
  {
   "cell_type": "code",
   "execution_count": 2,
   "id": "851dc0fe-4f9f-4a43-be67-77e901076585",
   "metadata": {},
   "outputs": [
    {
     "name": "stdout",
     "output_type": "stream",
     "text": [
      "a+b =  [1, 2, 3, 4, 5, 6]\n",
      "파이썬 리스트는 a*b 연산을 할 수 없다.\n"
     ]
    }
   ],
   "source": [
    "a = [1,2,3]\n",
    "b = [4,5,6]\n",
    "\n",
    "print('a+b = ',a+b)\n",
    "try:\n",
    "    print('a*b = ',a*b)\n",
    "except TypeError:\n",
    "    print('파이썬 리스트는 a*b 연산을 할 수 없다.')"
   ]
  },
  {
   "cell_type": "markdown",
   "id": "d6bf6819-2668-48c4-92f4-6de38ebc772c",
   "metadata": {},
   "source": [
    "## Numpy 연산"
   ]
  },
  {
   "cell_type": "code",
   "execution_count": 7,
   "id": "f155146c-1182-4361-a412-b85e6b8b9225",
   "metadata": {},
   "outputs": [
    {
     "name": "stdout",
     "output_type": "stream",
     "text": [
      "[1 2 3]\n",
      "[4 5 6]\n",
      "a+b =  [5 7 9]\n",
      "a*b =  [ 4 10 18]\n"
     ]
    }
   ],
   "source": [
    "\n",
    "numpy_a = np.array([1,2,3])\n",
    "numpy_b = np.array([4,5,6])\n",
    "\n",
    "print(numpy_a)\n",
    "print(numpy_b)\n",
    "\n",
    "print('a+b = ',numpy_a + numpy_b)\n",
    "print('a*b = ',numpy_a * numpy_b)"
   ]
  },
  {
   "cell_type": "markdown",
   "id": "57be3ed5-dc58-4af2-bc14-257af1f5e9fa",
   "metadata": {},
   "source": [
    "### Numpy sum 연산"
   ]
  },
  {
   "cell_type": "code",
   "execution_count": 8,
   "id": "e8125dcd-3f15-4774-96a9-7dbcadd54fc9",
   "metadata": {},
   "outputs": [
    {
     "name": "stdout",
     "output_type": "stream",
     "text": [
      "a :\n",
      "[[1 2]\n",
      " [3 4]]\n",
      "a.sum(axis=0): [4 6]\n",
      "a.sum(axis=1): [3 7]\n"
     ]
    }
   ],
   "source": [
    "a = np.array([[1,2],\n",
    "              [3,4]])\n",
    "print('a :' )\n",
    "print(a)\n",
    "print('a.sum(axis=0):',a.sum(axis=0))\n",
    "print('a.sum(axis=1):',a.sum(axis=1))\n"
   ]
  },
  {
   "cell_type": "code",
   "execution_count": 10,
   "id": "e29b25f4-b805-4c0a-829b-7924c9f7f374",
   "metadata": {},
   "outputs": [
    {
     "data": {
      "text/plain": [
       "'\\nnp.max\\n\\nnp.maximum의 차이점\\n\\nnp.max는 단일 리스트에서 최대값을 반환\\nnp.maximum은 여러 리스트를 입력으로 받아 각 자리의 최대값을 반환\\n\\n\\n'"
      ]
     },
     "execution_count": 10,
     "metadata": {},
     "output_type": "execute_result"
    }
   ],
   "source": [
    "def square(x):\n",
    "    return np.power(x,2)\n",
    "\n",
    "def leaky_relu(x):\n",
    "    return np.maximum(0.2*x, x)\n",
    "\n",
    "\"\"\"\n",
    "np.max\n",
    "\n",
    "np.maximum의 차이점\n",
    "\n",
    "np.max는 단일 리스트에서 최대값을 반환\n",
    "np.maximum은 여러 리스트를 입력으로 받아 각 자리의 최대값을 반환\n",
    "\n",
    "\n",
    "\"\"\""
   ]
  },
  {
   "cell_type": "markdown",
   "id": "9d974ab3-2e15-41f5-985e-15de68b619ec",
   "metadata": {},
   "source": [
    "## 도함수"
   ]
  },
  {
   "cell_type": "code",
   "execution_count": 11,
   "id": "b6e28cbd-d685-4ef9-99f9-f8007f5c1599",
   "metadata": {},
   "outputs": [],
   "source": [
    "def deriv(func, input_, delta=0.001):\n",
    "    return (func(input_ + delta) - func(input_ - delta)) / (2 * delta)"
   ]
  },
  {
   "cell_type": "markdown",
   "id": "f6d907a5-9e64-4c72-8f05-7cbd59f9cc53",
   "metadata": {},
   "source": [
    "## 합성함수"
   ]
  },
  {
   "cell_type": "code",
   "execution_count": 22,
   "id": "376a6ab3-04f7-4a4e-8320-72c44bf5aefb",
   "metadata": {},
   "outputs": [],
   "source": [
    "def chain_length_2(chain, a):\n",
    "    '''\n",
    "    두 함수를 연쇄적으로 평가\n",
    "    '''\n",
    "    \n",
    "    assert len(chain) == 2\n",
    "    \n",
    "    f1 = chain[0]\n",
    "    f2 = chain[1]\n",
    "    \n",
    "    return f2(f1(a))"
   ]
  },
  {
   "cell_type": "code",
   "execution_count": 13,
   "id": "666174cf-9ca4-4137-ac46-7febc33c39b4",
   "metadata": {},
   "outputs": [],
   "source": [
    "def sigmoid(x):\n",
    "    return 1/1+np.exp(-x)"
   ]
  },
  {
   "cell_type": "code",
   "execution_count": 18,
   "id": "819c5069-5339-4c03-8d9c-bbd720433f54",
   "metadata": {},
   "outputs": [],
   "source": [
    "def chain_deriv_2(chain, input_range):\n",
    "    '''\n",
    "    두 함수로 구성된 합성함수의 도함수를 계산하기 위해 연쇄법칙을 사용함\n",
    "    (f2(f1(x)))' = f2'(f1(x)) * f1'(x)\n",
    "    '''\n",
    "    \n",
    "    assert len(chain) == 2\n",
    "    \n",
    "    assert input_range.ndim == 1\n",
    "    \n",
    "    f1 = chain[0]\n",
    "    f2 = chain[1]\n",
    "    \n",
    "    df1du = deriv(f1,input_range)\n",
    "    \n",
    "    df2df1 = deriv(f2,f1(input_range))\n",
    "    \n",
    "    return df2df1 * df1du"
   ]
  },
  {
   "cell_type": "code",
   "execution_count": 23,
   "id": "27ac113e-0e1a-4fd8-996f-b5df70c232c9",
   "metadata": {},
   "outputs": [
    {
     "data": {
      "image/png": "[encoded data removed]",
      "text/plain": [
       "<Figure size 640x480 with 1 Axes>"
      ]
     },
     "metadata": {},
     "output_type": "display_data"
    }
   ],
   "source": [
    "PLOT_RANGE = np.arange(-3,3,0.01)\n",
    "\n",
    "chain_1 = [square, sigmoid]\n",
    "chain_2 = [sigmoid, square]\n",
    "\n",
    "chain_1_result = chain_deriv_2(chain_1, PLOT_RANGE)\n",
    "chain_2_result = chain_deriv_2(chain_2, PLOT_RANGE)\n",
    "\n",
    "plt.plot(PLOT_RANGE, chain_length_2(chain_1, PLOT_RANGE))\n",
    "plt.plot(PLOT_RANGE, chain_1_result)\n",
    "#plt.plot(PLOT_RANGE, chain_2_result)\n",
    "plt.show()"
   ]
  },
  {
   "cell_type": "code",
   "execution_count": null,
   "id": "0d96b714-bda6-4560-a021-fbed0a875230",
   "metadata": {},
   "outputs": [],
   "source": []
  }
 ],
 "metadata": {
  "kernelspec": {
   "display_name": "Seth",
   "language": "python",
   "name": "seth"
  },
  "language_info": {
   "codemirror_mode": {
    "name": "ipython",
    "version": 3
   },
   "file_extension": ".py",
   "mimetype": "text/x-python",
   "name": "python",
   "nbconvert_exporter": "python",
   "pygments_lexer": "ipython3",
   "version": "3.7.13"
  }
 },
 "nbformat": 4,
 "nbformat_minor": 5
}
